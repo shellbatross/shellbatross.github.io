{
 "cells": [
  {
   "cell_type": "markdown",
   "id": "8eb57788-d870-4529-b5a4-72141c3ee013",
   "metadata": {},
   "source": [
    "Fishing Statistics and Analysis\n",
    "\n",
    "Stephanie Albornoz, Justin Tung"
   ]
  },
  {
   "cell_type": "markdown",
   "id": "b1533d41-15d8-4ce1-8c9d-3984b3feff4f",
   "metadata": {},
   "source": [
    "Both of us enjoy fishing to a certain degree, Stephanie loves visiting North Carolina every summer, her family lives very close to the Ocean close to the intracoastal area and she regularly goes out fishing with her family as a pastime and Justin goes out fishing with his family occasionally during breaks from school. One thing that we have noticed is the inconsistency when we go out fishing, the range of fish we've caught over multiple trips ranges from 0 all the way up to 13. We wanted to understand a little more about the inconsistency and find out potential factors that affected our success (or lack of). These factors included things like: fishing experience, weather, time, method of fishing, etc.\n",
    "\n",
    "Thankfully for us, the National Oceanic and Atmospheric Administration (NOAA) surveys anglers when they come back from their fishing trips and has publicized the information. Their survey includes lots of data on the factors that we wanted to explore about fishing that we mentioned above.\n",
    "\n",
    "In our tutorial, we will be analyzing the data provided by the NOAA. We will be observing how different factors affect fishing success, analyzing certain trends in the data and using Machine Learning algorithms to predict whether this year's fishing will improve, and by how much, and what would be the best time to go fish to enjoy this year's summer fishing season."
   ]
  },
  {
   "cell_type": "markdown",
   "id": "5a2a1733-3472-46a4-b6b4-0761bafbd288",
   "metadata": {},
   "source": [
    "Part 1. Data collection/curation + parsing:"
   ]
  },
  {
   "cell_type": "markdown",
   "id": "73411348-8d7d-44e4-9a78-2a2d812da8ea",
   "metadata": {},
   "source": [
    "Tools needed:"
   ]
  },
  {
   "cell_type": "code",
   "execution_count": 315,
   "id": "5c26f7e5-b1a4-4f1f-9539-d75c0d15ff3c",
   "metadata": {},
   "outputs": [],
   "source": [
    "import pandas as pd\n",
    "from random import sample\n",
    "import numpy as np\n",
    "import seaborn as sns\n",
    "from sklearn.linear_model import LinearRegression\n",
    "from sklearn import preprocessing\n",
    "from sklearn import utils\n",
    "from sklearn.model_selection import cross_val_score\n",
    "from sklearn.tree import DecisionTreeRegressor\n",
    "from sklearn.metrics import r2_score\n",
    "from sklearn.linear_model import LogisticRegression\n",
    "from sklearn.model_selection import train_test_split\n",
    "import matplotlib.pyplot as plt\n",
    "from datetime import time, timedelta,datetime,date\n",
    "import math\n",
    "import statsmodels.formula.api as sm\n",
    "#Not necessary, just to ignore future warnings\n",
    "import warnings\n",
    "warnings.simplefilter(action='ignore', category=FutureWarning)\n",
    "#End not necessary"
   ]
  },
  {
   "cell_type": "markdown",
   "id": "f240d024-162a-4c79-8b4d-4e54c46580b9",
   "metadata": {},
   "source": [
    "Introduction to our Data:\n",
    "\n",
    "We are going to be using one of the NOAA Fisheries official recreational fishing data sets, the data set variables and naming conventions can be pretty confusing, so here is an overlook:\n",
    "\n",
    "We will be using one of the Trip-Level Data sets, which has records of an angler trip interview. The naming conventions of the Trip-Level Data sets use TRIP_YYYYW, where YYYY is the year, and \"W\" is the \"Wave\". For the NOAA, the \"Wave\" is a 2 month sampling period. Because summer break for most colleges is mid May to late August, we will be using TRIP_20214, TRIP20204, TRIP20194, TRIP20184. This means we will be using wave 4, which contains the months of July/August, of the most recent entries in the dataset from 2018 through 2021. This will also help us since there are a massive amount of entries in the dataset, so specifying certain aspects will allow us to focus more on what we wanted to learn."
   ]
  },
  {
   "cell_type": "markdown",
   "id": "cbcad170-693b-40d6-bd4f-6ea81ba59006",
   "metadata": {},
   "source": [
    "Cleaning and Getting Our Data:\n",
    "\n",
    "First we will read all the CSV files of angler trip surveys performed from 2018-2021 during the months of July/August and put each into a dataframe for cleaning."
   ]
  },
  {
   "cell_type": "code",
   "execution_count": 316,
   "id": "7942d5d4-2541-4ca1-81a5-7cd551555064",
   "metadata": {},
   "outputs": [],
   "source": [
    "tmp_full_df1 = pd.read_csv(r'./trip_20213.csv', low_memory = False)\n",
    "tmp_full_df2 = pd.read_csv(r'./trip_20203.csv', low_memory = False)\n",
    "tmp_full_df3 = pd.read_csv(r'./trip_20193.csv', low_memory = False)\n",
    "tmp_full_df4 = pd.read_csv(r'./trip_20183.csv', low_memory = False)"
   ]
  },
  {
   "cell_type": "markdown",
   "id": "f00fdca9-364a-461b-b524-f3f4e4272ac5",
   "metadata": {},
   "source": [
    "Then we will edit the temporary dataframes of each year so they only include the data for ocean fishing in the North Carolina area (NC_AREA). We chose to focus on North Carolina since Stephanie has more fishing experience and could potentially relate to the data a bit more. To keep only the data relevant to us, we run this code:"
   ]
  },
  {
   "cell_type": "code",
   "execution_count": 317,
   "id": "aed3131d-14bc-4f35-8e5c-094689704589",
   "metadata": {},
   "outputs": [],
   "source": [
    "tmp_full_df1 = tmp_full_df1.dropna(subset=['AREA_NC'])\n",
    "tmp_full_df2 = tmp_full_df2.dropna(subset=['AREA_NC'])\n",
    "tmp_full_df3 = tmp_full_df3.dropna(subset=['AREA_NC'])\n",
    "tmp_full_df4 = tmp_full_df4.dropna(subset=['AREA_NC'])\n",
    "#Since the NOAA marks \"1\" as the code for ocean fishing, we will only keep this subset\n",
    "tmp_full_df1 = tmp_full_df1[tmp_full_df1.AREA_NC == \"1\"]\n",
    "tmp_full_df2 = tmp_full_df2[tmp_full_df2.AREA_NC == \"1\"]\n",
    "tmp_full_df3 = tmp_full_df3[tmp_full_df3.AREA_NC == \"1\"]\n",
    "tmp_full_df4 = tmp_full_df4[tmp_full_df4.AREA_NC == \"1\"]\n",
    "\n",
    "tmp_full_df1 = tmp_full_df1[['CATCH','HRSF','kod','TIME','GEAR','MODE_F','FFDAYS12','YEAR']]\n",
    "tmp_full_df2 = tmp_full_df2[['CATCH','HRSF','kod','TIME','GEAR','MODE_F','FFDAYS12','YEAR']]\n",
    "tmp_full_df3 = tmp_full_df3[['CATCH','HRSF','kod','TIME','GEAR','MODE_F','FFDAYS12','YEAR']]\n",
    "tmp_full_df4 = tmp_full_df4[['CATCH','HRSF','kod','TIME','GEAR','MODE_F','FFDAYS12','YEAR']]"
   ]
  },
  {
   "cell_type": "markdown",
   "id": "5e6c1fab-6492-42db-a73e-9f11fc816640",
   "metadata": {},
   "source": [
    "In our dataframes above, we have 8 columns of data. We keep track of:\n",
    "\n",
    "Catch, HRSF, Kod, Time, Gear, Mode_F, FFDAYS12, Year\n",
    "\n",
    "As we mentioned earlier, fishing is a very inconsistent sport, at least for people who fish casually. Sometimes a person can fish for several hours and catch nothing while another person can fish for a short period of time and catch multiple fish. As a result, the dataset is filled with many entries where people have varying amounts of fish caught. We want to be able to compare the success of different fishermen, even if they fished for different amounts of time. To do this, we will add a new column to each dataframe, and with that column we can see how \"successful\" an angler was compared to another.\n",
    "\n",
    "In this tutorial, we will determine success as the amount of fish catched divided by the amount of hours spent to catch said fish, so catching the most amount of fish over the least amount of time implies a higher \"success\" fishing trip."
   ]
  },
  {
   "cell_type": "code",
   "execution_count": 318,
   "id": "e969989d-cd6f-46b9-8fce-3aa54279cb88",
   "metadata": {},
   "outputs": [],
   "source": [
    "tmp_full_df1[\"succ_hr\"] = tmp_full_df1[\"CATCH\"]/ tmp_full_df1[\"HRSF\"]\n",
    "tmp_full_df2[\"succ_hr\"] = tmp_full_df2[\"CATCH\"]/ tmp_full_df2[\"HRSF\"]\n",
    "tmp_full_df3[\"succ_hr\"] = tmp_full_df3[\"CATCH\"]/ tmp_full_df3[\"HRSF\"]\n",
    "tmp_full_df4[\"succ_hr\"] = tmp_full_df4[\"CATCH\"]/ tmp_full_df4[\"HRSF\"]"
   ]
  },
  {
   "cell_type": "markdown",
   "id": "ad2444e5-5c65-415b-9f68-1540f0a84c4c",
   "metadata": {},
   "source": [
    "We are now able to compare how successful each of the anglers' trips were, but we have a new issue to think about. Our dataset is too large to work with, we have too many entries. As much as we would like to include all the entries in the dataset for accuracy, there are simply too many entries each year for us to work with."
   ]
  },
  {
   "cell_type": "code",
   "execution_count": 319,
   "id": "6e19d58d-99ea-4c78-b43d-8f998f59a9d2",
   "metadata": {},
   "outputs": [
    {
     "name": "stdout",
     "output_type": "stream",
     "text": [
      "In fact each of the temporary dataframes sizes are\n",
      "24651 36549 23859 30105\n"
     ]
    }
   ],
   "source": [
    "print(\"In fact each of the temporary dataframes sizes are\")\n",
    "print(tmp_full_df1.size,tmp_full_df2.size,tmp_full_df3.size,tmp_full_df4.size)"
   ]
  },
  {
   "cell_type": "markdown",
   "id": "a651672d-f8ed-4905-9bfd-3443e50dd940",
   "metadata": {},
   "source": [
    "To combat our problem and for the sake of optimism, we will narrow down our analysis to the most successful fishing trips and ignore any entries that could not be computed from a missing hours fished value. Furthermore, for each dataframe we will only grab the top 1000 performers, with all of their entries at that index together and merge them into a dataframe for the years 2018-2021. This way we will have a much more manageable dataset to work with."
   ]
  },
  {
   "cell_type": "code",
   "execution_count": 320,
   "id": "c091af9b-c6cf-43be-b898-37b4340397a3",
   "metadata": {},
   "outputs": [
    {
     "data": {
      "text/html": [
       "<div>\n",
       "<style scoped>\n",
       "    .dataframe tbody tr th:only-of-type {\n",
       "        vertical-align: middle;\n",
       "    }\n",
       "\n",
       "    .dataframe tbody tr th {\n",
       "        vertical-align: top;\n",
       "    }\n",
       "\n",
       "    .dataframe thead th {\n",
       "        text-align: right;\n",
       "    }\n",
       "</style>\n",
       "<table border=\"1\" class=\"dataframe\">\n",
       "  <thead>\n",
       "    <tr style=\"text-align: right;\">\n",
       "      <th></th>\n",
       "      <th>CATCH</th>\n",
       "      <th>HRSF</th>\n",
       "      <th>kod</th>\n",
       "      <th>TIME</th>\n",
       "      <th>GEAR</th>\n",
       "      <th>MODE_F</th>\n",
       "      <th>FFDAYS12</th>\n",
       "      <th>YEAR</th>\n",
       "      <th>succ_hr</th>\n",
       "    </tr>\n",
       "  </thead>\n",
       "  <tbody>\n",
       "    <tr>\n",
       "      <th>22234</th>\n",
       "      <td>1.0</td>\n",
       "      <td>12.0</td>\n",
       "      <td>wd</td>\n",
       "      <td>1749.0</td>\n",
       "      <td>1.0</td>\n",
       "      <td>8.0</td>\n",
       "      <td>15.0</td>\n",
       "      <td>2021</td>\n",
       "      <td>0.083333</td>\n",
       "    </tr>\n",
       "    <tr>\n",
       "      <th>21753</th>\n",
       "      <td>1.0</td>\n",
       "      <td>11.0</td>\n",
       "      <td>wd</td>\n",
       "      <td>1552.0</td>\n",
       "      <td>1.0</td>\n",
       "      <td>8.0</td>\n",
       "      <td>100.0</td>\n",
       "      <td>2021</td>\n",
       "      <td>0.090909</td>\n",
       "    </tr>\n",
       "    <tr>\n",
       "      <th>21752</th>\n",
       "      <td>1.0</td>\n",
       "      <td>11.0</td>\n",
       "      <td>wd</td>\n",
       "      <td>1551.0</td>\n",
       "      <td>1.0</td>\n",
       "      <td>8.0</td>\n",
       "      <td>100.0</td>\n",
       "      <td>2021</td>\n",
       "      <td>0.090909</td>\n",
       "    </tr>\n",
       "    <tr>\n",
       "      <th>19660</th>\n",
       "      <td>2.0</td>\n",
       "      <td>20.0</td>\n",
       "      <td>we</td>\n",
       "      <td>1814.0</td>\n",
       "      <td>1.0</td>\n",
       "      <td>1.0</td>\n",
       "      <td>25.0</td>\n",
       "      <td>2021</td>\n",
       "      <td>0.100000</td>\n",
       "    </tr>\n",
       "    <tr>\n",
       "      <th>19661</th>\n",
       "      <td>2.0</td>\n",
       "      <td>20.0</td>\n",
       "      <td>we</td>\n",
       "      <td>1814.0</td>\n",
       "      <td>1.0</td>\n",
       "      <td>1.0</td>\n",
       "      <td>0.0</td>\n",
       "      <td>2021</td>\n",
       "      <td>0.100000</td>\n",
       "    </tr>\n",
       "    <tr>\n",
       "      <th>...</th>\n",
       "      <td>...</td>\n",
       "      <td>...</td>\n",
       "      <td>...</td>\n",
       "      <td>...</td>\n",
       "      <td>...</td>\n",
       "      <td>...</td>\n",
       "      <td>...</td>\n",
       "      <td>...</td>\n",
       "      <td>...</td>\n",
       "    </tr>\n",
       "    <tr>\n",
       "      <th>17994</th>\n",
       "      <td>1.0</td>\n",
       "      <td>3.0</td>\n",
       "      <td>we</td>\n",
       "      <td>1231.0</td>\n",
       "      <td>1.0</td>\n",
       "      <td>8.0</td>\n",
       "      <td>200.0</td>\n",
       "      <td>2018</td>\n",
       "      <td>0.333333</td>\n",
       "    </tr>\n",
       "    <tr>\n",
       "      <th>16276</th>\n",
       "      <td>1.0</td>\n",
       "      <td>3.0</td>\n",
       "      <td>we</td>\n",
       "      <td>1120.0</td>\n",
       "      <td>1.0</td>\n",
       "      <td>7.0</td>\n",
       "      <td>12.0</td>\n",
       "      <td>2018</td>\n",
       "      <td>0.333333</td>\n",
       "    </tr>\n",
       "    <tr>\n",
       "      <th>17995</th>\n",
       "      <td>2.0</td>\n",
       "      <td>6.0</td>\n",
       "      <td>we</td>\n",
       "      <td>1332.0</td>\n",
       "      <td>1.0</td>\n",
       "      <td>8.0</td>\n",
       "      <td>0.0</td>\n",
       "      <td>2018</td>\n",
       "      <td>0.333333</td>\n",
       "    </tr>\n",
       "    <tr>\n",
       "      <th>17996</th>\n",
       "      <td>2.0</td>\n",
       "      <td>6.0</td>\n",
       "      <td>we</td>\n",
       "      <td>1333.0</td>\n",
       "      <td>1.0</td>\n",
       "      <td>8.0</td>\n",
       "      <td>0.0</td>\n",
       "      <td>2018</td>\n",
       "      <td>0.333333</td>\n",
       "    </tr>\n",
       "    <tr>\n",
       "      <th>18007</th>\n",
       "      <td>2.0</td>\n",
       "      <td>6.0</td>\n",
       "      <td>we</td>\n",
       "      <td>1514.0</td>\n",
       "      <td>1.0</td>\n",
       "      <td>8.0</td>\n",
       "      <td>100.0</td>\n",
       "      <td>2018</td>\n",
       "      <td>0.333333</td>\n",
       "    </tr>\n",
       "  </tbody>\n",
       "</table>\n",
       "<p>4000 rows × 9 columns</p>\n",
       "</div>"
      ],
      "text/plain": [
       "       CATCH  HRSF kod    TIME  GEAR  MODE_F  FFDAYS12  YEAR   succ_hr\n",
       "22234    1.0  12.0  wd  1749.0   1.0     8.0      15.0  2021  0.083333\n",
       "21753    1.0  11.0  wd  1552.0   1.0     8.0     100.0  2021  0.090909\n",
       "21752    1.0  11.0  wd  1551.0   1.0     8.0     100.0  2021  0.090909\n",
       "19660    2.0  20.0  we  1814.0   1.0     1.0      25.0  2021  0.100000\n",
       "19661    2.0  20.0  we  1814.0   1.0     1.0       0.0  2021  0.100000\n",
       "...      ...   ...  ..     ...   ...     ...       ...   ...       ...\n",
       "17994    1.0   3.0  we  1231.0   1.0     8.0     200.0  2018  0.333333\n",
       "16276    1.0   3.0  we  1120.0   1.0     7.0      12.0  2018  0.333333\n",
       "17995    2.0   6.0  we  1332.0   1.0     8.0       0.0  2018  0.333333\n",
       "17996    2.0   6.0  we  1333.0   1.0     8.0       0.0  2018  0.333333\n",
       "18007    2.0   6.0  we  1514.0   1.0     8.0     100.0  2018  0.333333\n",
       "\n",
       "[4000 rows x 9 columns]"
      ]
     },
     "execution_count": 320,
     "metadata": {},
     "output_type": "execute_result"
    }
   ],
   "source": [
    "tmp_full_df1,tmp_full_df2= tmp_full_df1.dropna(subset=['succ_hr']),tmp_full_df2.dropna(subset=['succ_hr'])\n",
    "tmp_full_df3,tmp_full_df4= tmp_full_df3.dropna(subset=['succ_hr']),tmp_full_df4.dropna(subset=['succ_hr'])\n",
    "tmp_full_df1 = tmp_full_df1.sort_values(by = 'succ_hr')\n",
    "tmp_full_df2 = tmp_full_df2.sort_values(by = 'succ_hr')\n",
    "tmp_full_df3 = tmp_full_df3.sort_values(by = 'succ_hr')\n",
    "tmp_full_df4 =tmp_full_df4.sort_values(by = 'succ_hr')\n",
    "\n",
    "\n",
    "tmp_full_df1,tmp_full_df2 = tmp_full_df1.iloc[:1000],tmp_full_df2.iloc[:1000]\n",
    "tmp_full_df3,tmp_full_df4 = tmp_full_df3.iloc[:1000],tmp_full_df4.iloc[:1000]\n",
    "\n",
    "tmp_dataframes = [tmp_full_df1,tmp_full_df2,tmp_full_df3,tmp_full_df4]\n",
    "nc_df = pd.concat(tmp_dataframes)\n",
    "nc_df2 = nc_df.copy()\n",
    "nc_df"
   ]
  },
  {
   "cell_type": "markdown",
   "id": "b686aba6-7f7d-49b0-af19-7793967c9b0b",
   "metadata": {},
   "source": [
    "Part 2. Data management/representation:"
   ]
  },
  {
   "cell_type": "markdown",
   "id": "7b322709-452e-4b73-8436-491afd172475",
   "metadata": {},
   "source": [
    "We will also change the names of some of the columns as the NOAA trip variables can be pretty confusing and sometimes do not follow naming conventions. In addition, we will also add the time period that the individuals went fishing. NOAA's data does not directly have this information, but it does have the length of the anglers' trips as well as the time the interview took place, which will allow us to get the period of time of their trip. Knowing this, we will add a column with the time period that the anglers went fishing."
   ]
  },
  {
   "cell_type": "code",
   "execution_count": 321,
   "id": "74cef3fd-ff7c-451a-bd0b-b17c32199036",
   "metadata": {},
   "outputs": [
    {
     "data": {
      "text/html": [
       "<div>\n",
       "<style scoped>\n",
       "    .dataframe tbody tr th:only-of-type {\n",
       "        vertical-align: middle;\n",
       "    }\n",
       "\n",
       "    .dataframe tbody tr th {\n",
       "        vertical-align: top;\n",
       "    }\n",
       "\n",
       "    .dataframe thead th {\n",
       "        text-align: right;\n",
       "    }\n",
       "</style>\n",
       "<table border=\"1\" class=\"dataframe\">\n",
       "  <thead>\n",
       "    <tr style=\"text-align: right;\">\n",
       "      <th></th>\n",
       "      <th>num_catched</th>\n",
       "      <th>hrs_fished</th>\n",
       "      <th>week/weekday</th>\n",
       "      <th>time</th>\n",
       "      <th>gear</th>\n",
       "      <th>fishing_mode</th>\n",
       "      <th>days_fished</th>\n",
       "      <th>year</th>\n",
       "      <th>succ_hr</th>\n",
       "      <th>starting_time</th>\n",
       "    </tr>\n",
       "  </thead>\n",
       "  <tbody>\n",
       "    <tr>\n",
       "      <th>22234</th>\n",
       "      <td>1.0</td>\n",
       "      <td>12.0</td>\n",
       "      <td>wd</td>\n",
       "      <td>17:49:00</td>\n",
       "      <td>hook &amp; line</td>\n",
       "      <td>Private/Rental boat</td>\n",
       "      <td>15.0</td>\n",
       "      <td>2021</td>\n",
       "      <td>0.083333</td>\n",
       "      <td>05:49:00</td>\n",
       "    </tr>\n",
       "    <tr>\n",
       "      <th>21753</th>\n",
       "      <td>1.0</td>\n",
       "      <td>11.0</td>\n",
       "      <td>wd</td>\n",
       "      <td>15:52:00</td>\n",
       "      <td>hook &amp; line</td>\n",
       "      <td>Private/Rental boat</td>\n",
       "      <td>100.0</td>\n",
       "      <td>2021</td>\n",
       "      <td>0.090909</td>\n",
       "      <td>04:52:00</td>\n",
       "    </tr>\n",
       "    <tr>\n",
       "      <th>21752</th>\n",
       "      <td>1.0</td>\n",
       "      <td>11.0</td>\n",
       "      <td>wd</td>\n",
       "      <td>15:51:00</td>\n",
       "      <td>hook &amp; line</td>\n",
       "      <td>Private/Rental boat</td>\n",
       "      <td>100.0</td>\n",
       "      <td>2021</td>\n",
       "      <td>0.090909</td>\n",
       "      <td>04:51:00</td>\n",
       "    </tr>\n",
       "    <tr>\n",
       "      <th>19660</th>\n",
       "      <td>2.0</td>\n",
       "      <td>20.0</td>\n",
       "      <td>we</td>\n",
       "      <td>18:14:00</td>\n",
       "      <td>hook &amp; line</td>\n",
       "      <td>Pier, dock</td>\n",
       "      <td>25.0</td>\n",
       "      <td>2021</td>\n",
       "      <td>0.100000</td>\n",
       "      <td>22:14:00</td>\n",
       "    </tr>\n",
       "    <tr>\n",
       "      <th>19661</th>\n",
       "      <td>2.0</td>\n",
       "      <td>20.0</td>\n",
       "      <td>we</td>\n",
       "      <td>18:14:00</td>\n",
       "      <td>hook &amp; line</td>\n",
       "      <td>Pier, dock</td>\n",
       "      <td>0.0</td>\n",
       "      <td>2021</td>\n",
       "      <td>0.100000</td>\n",
       "      <td>22:14:00</td>\n",
       "    </tr>\n",
       "    <tr>\n",
       "      <th>...</th>\n",
       "      <td>...</td>\n",
       "      <td>...</td>\n",
       "      <td>...</td>\n",
       "      <td>...</td>\n",
       "      <td>...</td>\n",
       "      <td>...</td>\n",
       "      <td>...</td>\n",
       "      <td>...</td>\n",
       "      <td>...</td>\n",
       "      <td>...</td>\n",
       "    </tr>\n",
       "    <tr>\n",
       "      <th>17994</th>\n",
       "      <td>1.0</td>\n",
       "      <td>3.0</td>\n",
       "      <td>we</td>\n",
       "      <td>12:31:00</td>\n",
       "      <td>hook &amp; line</td>\n",
       "      <td>Private/Rental boat</td>\n",
       "      <td>200.0</td>\n",
       "      <td>2018</td>\n",
       "      <td>0.333333</td>\n",
       "      <td>09:31:00</td>\n",
       "    </tr>\n",
       "    <tr>\n",
       "      <th>16276</th>\n",
       "      <td>1.0</td>\n",
       "      <td>3.0</td>\n",
       "      <td>we</td>\n",
       "      <td>11:20:00</td>\n",
       "      <td>hook &amp; line</td>\n",
       "      <td>Charter boat</td>\n",
       "      <td>12.0</td>\n",
       "      <td>2018</td>\n",
       "      <td>0.333333</td>\n",
       "      <td>08:20:00</td>\n",
       "    </tr>\n",
       "    <tr>\n",
       "      <th>17995</th>\n",
       "      <td>2.0</td>\n",
       "      <td>6.0</td>\n",
       "      <td>we</td>\n",
       "      <td>13:32:00</td>\n",
       "      <td>hook &amp; line</td>\n",
       "      <td>Private/Rental boat</td>\n",
       "      <td>0.0</td>\n",
       "      <td>2018</td>\n",
       "      <td>0.333333</td>\n",
       "      <td>07:32:00</td>\n",
       "    </tr>\n",
       "    <tr>\n",
       "      <th>17996</th>\n",
       "      <td>2.0</td>\n",
       "      <td>6.0</td>\n",
       "      <td>we</td>\n",
       "      <td>13:33:00</td>\n",
       "      <td>hook &amp; line</td>\n",
       "      <td>Private/Rental boat</td>\n",
       "      <td>0.0</td>\n",
       "      <td>2018</td>\n",
       "      <td>0.333333</td>\n",
       "      <td>07:33:00</td>\n",
       "    </tr>\n",
       "    <tr>\n",
       "      <th>18007</th>\n",
       "      <td>2.0</td>\n",
       "      <td>6.0</td>\n",
       "      <td>we</td>\n",
       "      <td>15:14:00</td>\n",
       "      <td>hook &amp; line</td>\n",
       "      <td>Private/Rental boat</td>\n",
       "      <td>100.0</td>\n",
       "      <td>2018</td>\n",
       "      <td>0.333333</td>\n",
       "      <td>09:14:00</td>\n",
       "    </tr>\n",
       "  </tbody>\n",
       "</table>\n",
       "<p>4000 rows × 10 columns</p>\n",
       "</div>"
      ],
      "text/plain": [
       "       num_catched  hrs_fished week/weekday      time         gear  \\\n",
       "22234          1.0        12.0           wd  17:49:00  hook & line   \n",
       "21753          1.0        11.0           wd  15:52:00  hook & line   \n",
       "21752          1.0        11.0           wd  15:51:00  hook & line   \n",
       "19660          2.0        20.0           we  18:14:00  hook & line   \n",
       "19661          2.0        20.0           we  18:14:00  hook & line   \n",
       "...            ...         ...          ...       ...          ...   \n",
       "17994          1.0         3.0           we  12:31:00  hook & line   \n",
       "16276          1.0         3.0           we  11:20:00  hook & line   \n",
       "17995          2.0         6.0           we  13:32:00  hook & line   \n",
       "17996          2.0         6.0           we  13:33:00  hook & line   \n",
       "18007          2.0         6.0           we  15:14:00  hook & line   \n",
       "\n",
       "              fishing_mode  days_fished  year   succ_hr starting_time  \n",
       "22234  Private/Rental boat         15.0  2021  0.083333      05:49:00  \n",
       "21753  Private/Rental boat        100.0  2021  0.090909      04:52:00  \n",
       "21752  Private/Rental boat        100.0  2021  0.090909      04:51:00  \n",
       "19660           Pier, dock         25.0  2021  0.100000      22:14:00  \n",
       "19661           Pier, dock          0.0  2021  0.100000      22:14:00  \n",
       "...                    ...          ...   ...       ...           ...  \n",
       "17994  Private/Rental boat        200.0  2018  0.333333      09:31:00  \n",
       "16276         Charter boat         12.0  2018  0.333333      08:20:00  \n",
       "17995  Private/Rental boat          0.0  2018  0.333333      07:32:00  \n",
       "17996  Private/Rental boat          0.0  2018  0.333333      07:33:00  \n",
       "18007  Private/Rental boat        100.0  2018  0.333333      09:14:00  \n",
       "\n",
       "[4000 rows x 10 columns]"
      ]
     },
     "execution_count": 321,
     "metadata": {},
     "output_type": "execute_result"
    }
   ],
   "source": [
    "nc_df = nc_df.rename(columns={'CATCH':'num_catched','HRSF':'hrs_fished',\n",
    "                      'kod':'week/weekday','TIME':'time','GEAR':'gear','MODE_F':'fishing_mode','FFDAYS12':'days_fished', \n",
    "                     'YEAR':'year'})\n",
    "gear_map = {1.0: 'hook & line', 2.0 :'dip net', 3.0: 'cast net', 4.0:'Gill net', 5.0: 'Seine', 6.0: 'Trawl',7.0 : 'Trap',8.0 : 'Spear', \n",
    "            9.0 : 'Hand', 10.0 : \n",
    "            'Other', 11.0 : 'YoYo (Puerto Rico only)'}\n",
    "fmode_map = {1.0 : 'Pier, dock',2.0 :'Jetty, breakwater, breachway', 3.0 : 'Bridge, causeway',4.0 : 'Other man-made', 5.0 : 'Beach or bank', \n",
    "             6.0 : 'Head boat', 7.0: 'Charter boat', 8.0 : 'Private/Rental boat'}\n",
    "\n",
    "for i, row in nc_df.iterrows():\n",
    "    if row[\"gear\"] in gear_map:\n",
    "        nc_df.at[i,'gear'] = gear_map[row[\"gear\"]]\n",
    "    if row[\"fishing_mode\"] in fmode_map:\n",
    "        nc_df.at[i,'fishing_mode'] = fmode_map[row[\"fishing_mode\"]]\n",
    "    frmt = '%H:%M'\n",
    "    interview_time = str(int(row[\"time\"]))\n",
    "    if len(interview_time) <= 3:\n",
    "        splice = 1\n",
    "    else:\n",
    "        splice = 2\n",
    "    nc_df.at[i,'time'] = time(int(interview_time[:splice]),int(interview_time[splice:]),0)\n",
    "    \n",
    "time_start = []\n",
    "for i, row in nc_df.iterrows():\n",
    "    time = row[\"time\"]\n",
    "    dt = datetime.combine(date.today(),time)- timedelta(hours=row[\"hrs_fished\"])\n",
    "    time_start.append(dt.time())\n",
    "        \n",
    "nc_df[\"starting_time\"] = time_start\n",
    "nc_df"
   ]
  },
  {
   "cell_type": "markdown",
   "id": "600c6a79-48ea-44b9-8889-f6666f55188a",
   "metadata": {},
   "source": [
    "Part 3. \n",
    "Exploratory data analysis:"
   ]
  },
  {
   "cell_type": "markdown",
   "id": "fa534c42-8037-43dc-aa95-fd81bc36b360",
   "metadata": {},
   "source": [
    "Now that we're done cleaning up our data, we can begin to conduct some analysis on it. \n",
    "People have long debated skill versus luck in the sport of fishing. With our data, we can prove or dispute whether fishing is luck or not. We will do this by checking if people who have spent more time fishing have caught more fish in comparison to inexperienced anglers. We will be using the days fished for each angler as a measurement on how experienced they are at fishing, as someone who fished more days in the year will be more experienced than someone who fished less than them."
   ]
  },
  {
   "cell_type": "code",
   "execution_count": 322,
   "id": "fdefa2b8-bed5-46d1-9772-fa0a2b333e04",
   "metadata": {},
   "outputs": [
    {
     "data": {
      "image/png": "[encoded data removed]",
      "text/plain": [
       "<Figure size 842.4x595.44 with 1 Axes>"
      ]
     },
     "metadata": {
      "needs_background": "light"
     },
     "output_type": "display_data"
    }
   ],
   "source": [
    "nc_df['days_fished'] = nc_df['days_fished'].replace([998.0],1)\n",
    "nc_df['days_fished'] = nc_df['days_fished'].replace([999.0],1)\n",
    "fig, ax = plt.subplots()\n",
    "fig.set_size_inches(11.7, 8.27)\n",
    "fig = sns.barplot(y=nc_df[\"succ_hr\"],x=nc_df[\"days_fished\"],ci=None, ax = ax)\n",
    "size = (len(set(nc_df[\"days_fished\"])))\n",
    "fished_max = max(set(nc_df[\"days_fished\"]))\n",
    "set_ticks = plt.xticks([0, size-1], ['1', fished_max])"
   ]
  },
  {
   "cell_type": "markdown",
   "id": "bee3d884-97d6-47bc-957d-a9ca52eaa26f",
   "metadata": {},
   "source": [
    "Sadly as it can be observed, the success rate anglers who fished nearly the maximum number of days in the year were worse or comparable to someone who fished for significantly less days. For example, taking the extremes, people who fished only one day of the year versus three hundred days of the year, the people who fished only one day have a higher success rate. While this seems unintuitive, this gives insight on the fact that while skill is crucial to luring and catching fish, there are many other factors that affect an anglers' success on a fishing trip as well as fishing as a sport. Potential factors affecting success may include: luck, environmental conditions, and fish population."
   ]
  },
  {
   "cell_type": "markdown",
   "id": "8b6d0958-902a-40af-b7be-d0b366dfb68f",
   "metadata": {},
   "source": [
    "Since skill does not appear to affect an anglers' success rate, we can analyze another aspect of the data to perhaps find a correlation. Instead, we can look at the method of fishing to see if it affects success as it could be that the way that these anglers fished could have a significant impact on how successful their trips were. "
   ]
  },
  {
   "cell_type": "code",
   "execution_count": 323,
   "id": "6472ce7b-6232-475b-8611-7a928eb923d7",
   "metadata": {},
   "outputs": [
    {
     "data": {
      "image/png": "[encoded data removed]",
      "text/plain": [
       "<Figure size 842.4x595.44 with 1 Axes>"
      ]
     },
     "metadata": {
      "needs_background": "light"
     },
     "output_type": "display_data"
    }
   ],
   "source": [
    "fig, ax = plt.subplots()\n",
    "fig.set_size_inches(11.7, 8.27)\n",
    "fig = sns.barplot(y=nc_df[\"succ_hr\"],x=nc_df[\"fishing_mode\"],ci=None, ax = ax)"
   ]
  },
  {
   "cell_type": "markdown",
   "id": "5210c75c-3264-4400-96bd-6f67ec6c93b5",
   "metadata": {},
   "source": [
    "At a glance, besides other man-made fishing spots, the method of fishing all produce similar results in terms of success rate, approximately .25 fish caught per hour. This means that it takes on average, 4 hours to catch one fish for nearly every method. It seems likely that the method for fishing does not have that large of an effect on the amount of fish an angler would catch. This also holds up with the idea that there are many factors that affect the success rate, so we would not see a specific factor drastically changing success.\n"
   ]
  },
  {
   "cell_type": "markdown",
   "id": "45af4947-b885-4575-a4b6-a7f0c3d0cd80",
   "metadata": {},
   "source": [
    "Instead, let's explore the data in regards to how successful people were each year, we will see what were the most common rates at which people caught fish by the hour. This way we can also see the density at which people most commonly caught fish."
   ]
  },
  {
   "cell_type": "code",
   "execution_count": 324,
   "id": "61cd89fd-a341-4572-86da-4bcbda2345bb",
   "metadata": {},
   "outputs": [
    {
     "data": {
      "image/png": "[encoded data removed]",
      "text/plain": [
       "<Figure size 432x288 with 1 Axes>"
      ]
     },
     "metadata": {
      "needs_background": "light"
     },
     "output_type": "display_data"
    }
   ],
   "source": [
    "curr_success = []\n",
    "for i, row in nc_df.iterrows():\n",
    "    if row[\"year\"] == 2018:\n",
    "        curr_success.append(row[\"succ_hr\"])\n",
    "kde = sns.kdeplot(curr_success,shade=True).set(title='Density of fishing success in 2018')"
   ]
  },
  {
   "cell_type": "markdown",
   "id": "d0171ca7-9923-4a93-aedb-a52229aa581d",
   "metadata": {},
   "source": [
    "As we can see in 2018, the most commonly dense group of success rates was between 0.10-0.15, implying that it would take someone around 6-10 hours to catch a single fish, and then another peak being a success rate of 0.25-0.30, implying that it would take the angler 3-4 hours approximately to catch a fish. "
   ]
  },
  {
   "cell_type": "code",
   "execution_count": 325,
   "id": "d2a4edc9-4e93-447d-8211-c5aa1086bcfb",
   "metadata": {},
   "outputs": [
    {
     "data": {
      "image/png": "[encoded data removed]",
      "text/plain": [
       "<Figure size 432x288 with 1 Axes>"
      ]
     },
     "metadata": {
      "needs_background": "light"
     },
     "output_type": "display_data"
    }
   ],
   "source": [
    "curr_success = []\n",
    "for i, row in nc_df.iterrows():\n",
    "    if row[\"year\"] == 2019:\n",
    "        curr_success.append(row[\"succ_hr\"])\n",
    "kde = sns.kdeplot(curr_success,shade=True).set(title='Density of fishing success in 2019')"
   ]
  },
  {
   "cell_type": "markdown",
   "id": "43935f13-dded-4d71-80c6-37639d5cbce7",
   "metadata": {},
   "source": [
    "In 2019, the most commonly dense group of success rates was between 0.10-0.20, implying that it would take someone around 5-10 hours to catch a single fish, and then another peak being a success rate of 0.25, implying that it would take the angler approximately 4 hours to catch a fish, then finally we see another peak in density between 0.3-0.4 success rate, implying that another most common group would catch a fish after approximately 2.5-3 hours."
   ]
  },
  {
   "cell_type": "code",
   "execution_count": 326,
   "id": "a340f803-02bb-4523-b478-db26bfb3a8c2",
   "metadata": {},
   "outputs": [
    {
     "data": {
      "image/png": "[encoded data removed]",
      "text/plain": [
       "<Figure size 432x288 with 1 Axes>"
      ]
     },
     "metadata": {
      "needs_background": "light"
     },
     "output_type": "display_data"
    }
   ],
   "source": [
    "curr_success = []\n",
    "for i, row in nc_df.iterrows():\n",
    "    if row[\"year\"] == 2020:\n",
    "        curr_success.append(row[\"succ_hr\"])\n",
    "kde = sns.kdeplot(curr_success,shade=True).set(title='Density of fishing success in 2020')"
   ]
  },
  {
   "cell_type": "markdown",
   "id": "b33bcc5b-dcd3-493c-b3b2-183254c304af",
   "metadata": {},
   "source": [
    "Then in 2020 it was the most commonly dense group of success rates at around 0.15, implying that it would take someone around 7 hours to catch a single fish, and then another peak being a success rate of a little over 0.25, implying that it would take the angler close to 4 hours approximately to catch a fish."
   ]
  },
  {
   "cell_type": "code",
   "execution_count": 327,
   "id": "a5d26c41-4131-41ef-a756-63ddcb72786d",
   "metadata": {},
   "outputs": [
    {
     "data": {
      "image/png": "[encoded data removed]",
      "text/plain": [
       "<Figure size 432x288 with 1 Axes>"
      ]
     },
     "metadata": {
      "needs_background": "light"
     },
     "output_type": "display_data"
    }
   ],
   "source": [
    "curr_success = []\n",
    "for i, row in nc_df.iterrows():\n",
    "    if row[\"year\"] == 2021:\n",
    "        curr_success.append(row[\"succ_hr\"])\n",
    "kde = sns.kdeplot(curr_success,shade=True).set(title='Density of fishing success in 2021')"
   ]
  },
  {
   "cell_type": "markdown",
   "id": "ff150910-30f9-4e6e-b496-383cfc6600ce",
   "metadata": {},
   "source": [
    "Last year in 2021, the most commonly dense group of success rates was approximately at 0.25, implying that it would take someone around 4 hours to catch a single fish, and then another peak being a success rate of at around 0.35, implying that it would take the angler approximately 3 hours until they caught a fish, and then another peak at a little over a rate of 0.4, implying it would\n",
    "take the angler around 2.5 hours to catch one fish."
   ]
  },
  {
   "cell_type": "markdown",
   "id": "47c2125c-6070-46c1-9399-c0fff4bf1b11",
   "metadata": {},
   "source": [
    "As we can see, certain years were better in terms of anglers' success on fishing trips than other years. Specifically, in 2021 there was a very noticeable shift of density towards higher success rates compared to the years before it. Another thing to note is that there were also shifts in previous years towards the most common densities of success rate. If we combine all of our density graphs we get:"
   ]
  },
  {
   "cell_type": "code",
   "execution_count": 328,
   "id": "ee435553-be2f-420d-b65b-db2dea58f0dd",
   "metadata": {},
   "outputs": [
    {
     "name": "stdout",
     "output_type": "stream",
     "text": [
      "                            OLS Regression Results                            \n",
      "==============================================================================\n",
      "Dep. Variable:                succ_hr   R-squared:                       0.024\n",
      "Model:                            OLS   Adj. R-squared:                  0.024\n",
      "Method:                 Least Squares   F-statistic:                     97.41\n",
      "Date:                Sat, 17 Dec 2022   Prob (F-statistic):           1.02e-22\n",
      "Time:                        00:43:36   Log-Likelihood:                 4242.0\n",
      "No. Observations:                4000   AIC:                            -8480.\n",
      "Df Residuals:                    3998   BIC:                            -8467.\n",
      "Df Model:                           1                                         \n",
      "Covariance Type:            nonrobust                                         \n",
      "==============================================================================\n",
      "                 coef    std err          t      P>|t|      [0.025      0.975]\n",
      "------------------------------------------------------------------------------\n",
      "Intercept    -23.3810      2.394     -9.768      0.000     -28.074     -18.688\n",
      "year           0.0117      0.001      9.870      0.000       0.009       0.014\n",
      "==============================================================================\n",
      "Omnibus:                     1003.547   Durbin-Watson:                   0.010\n",
      "Prob(Omnibus):                  0.000   Jarque-Bera (JB):              190.920\n",
      "Skew:                           0.168   Prob(JB):                     3.48e-42\n",
      "Kurtosis:                       1.984   Cond. No.                     3.65e+06\n",
      "==============================================================================\n",
      "\n",
      "Notes:\n",
      "[1] Standard Errors assume that the covariance matrix of the errors is correctly specified.\n",
      "[2] The condition number is large, 3.65e+06. This might indicate that there are\n",
      "strong multicollinearity or other numerical problems.\n"
     ]
    },
    {
     "data": {
      "image/png": "[encoded data removed]",
      "text/plain": [
       "<Figure size 432x288 with 1 Axes>"
      ]
     },
     "metadata": {
      "needs_background": "light"
     },
     "output_type": "display_data"
    }
   ],
   "source": [
    "x_axis = np.array(nc_df[\"year\"]).reshape(-1,1)\n",
    "y_axis = nc_df[\"succ_hr\"]\n",
    "linear_reg = LinearRegression().fit(x_axis,y_axis)\n",
    "plt.scatter(nc_df[\"year\"],nc_df[\"succ_hr\"])\n",
    "prediction = linear_reg.predict(x_axis)\n",
    "plt.plot(x_axis, prediction, color = \"red\")\n",
    "plt.xlabel(\"Years\")\n",
    "y = plt.ylabel(\"Sucess\")\n",
    "average_increase = linear_reg.coef_\n",
    "info = sm.ols(formula = \"succ_hr ~ year\",data= nc_df).fit()\n",
    "print(info.summary())"
   ]
  },
  {
   "cell_type": "markdown",
   "id": "e4dfb39c-3fe3-44cb-96d8-1b54ca78822e",
   "metadata": {},
   "source": [
    "As a reminder, our null hypothesis is that there is a relation between years and the success rate of anglers. Since the P-Value in the Linear Regression is 0, we can reject the null hypothesis, meaning that there is indeed a relation between the year anglers fished and their success.\n",
    "\n",
    "This is significant because this means that there is relation between year and successful fishing trips. For us, this would generally explain the variance in the amount of fish that we catch every year. There are too many factors that may affect this, so we will not be exploring that in this tutorial."
   ]
  },
  {
   "cell_type": "markdown",
   "id": "a025a00d-da17-4432-9166-334ad91f5274",
   "metadata": {},
   "source": [
    "Another Idea to Explore:\n",
    "\n",
    "As much as the two of us like to fish, fishing with large crowds is not as enjoyable for us. Crowds make it difficult to find a nice spot to fish and makes it much more difficult to maneuver our reels. Thankfully, since we were able to calculate the time of anglers' trips, we are able to observe the most popular times to fish each year, and we can get a \"period of time\" were people went to fish."
   ]
  },
  {
   "cell_type": "code",
   "execution_count": 329,
   "id": "74a3b5d6-65c1-4ff7-93e0-1f16e9baccdd",
   "metadata": {},
   "outputs": [
    {
     "data": {
      "text/html": [
       "<div>\n",
       "<style scoped>\n",
       "    .dataframe tbody tr th:only-of-type {\n",
       "        vertical-align: middle;\n",
       "    }\n",
       "\n",
       "    .dataframe tbody tr th {\n",
       "        vertical-align: top;\n",
       "    }\n",
       "\n",
       "    .dataframe thead th {\n",
       "        text-align: right;\n",
       "    }\n",
       "</style>\n",
       "<table border=\"1\" class=\"dataframe\">\n",
       "  <thead>\n",
       "    <tr style=\"text-align: right;\">\n",
       "      <th></th>\n",
       "      <th>num_catched</th>\n",
       "      <th>hrs_fished</th>\n",
       "      <th>week/weekday</th>\n",
       "      <th>time</th>\n",
       "      <th>gear</th>\n",
       "      <th>fishing_mode</th>\n",
       "      <th>days_fished</th>\n",
       "      <th>year</th>\n",
       "      <th>succ_hr</th>\n",
       "      <th>starting_time</th>\n",
       "      <th>period_of_fishing</th>\n",
       "    </tr>\n",
       "  </thead>\n",
       "  <tbody>\n",
       "    <tr>\n",
       "      <th>22234</th>\n",
       "      <td>1.0</td>\n",
       "      <td>12.0</td>\n",
       "      <td>wd</td>\n",
       "      <td>17:49:00</td>\n",
       "      <td>hook &amp; line</td>\n",
       "      <td>Private/Rental boat</td>\n",
       "      <td>15.0</td>\n",
       "      <td>2021</td>\n",
       "      <td>0.083333</td>\n",
       "      <td>05:49:00</td>\n",
       "      <td>(5, 17)</td>\n",
       "    </tr>\n",
       "    <tr>\n",
       "      <th>21753</th>\n",
       "      <td>1.0</td>\n",
       "      <td>11.0</td>\n",
       "      <td>wd</td>\n",
       "      <td>15:52:00</td>\n",
       "      <td>hook &amp; line</td>\n",
       "      <td>Private/Rental boat</td>\n",
       "      <td>100.0</td>\n",
       "      <td>2021</td>\n",
       "      <td>0.090909</td>\n",
       "      <td>04:52:00</td>\n",
       "      <td>(4, 15)</td>\n",
       "    </tr>\n",
       "    <tr>\n",
       "      <th>21752</th>\n",
       "      <td>1.0</td>\n",
       "      <td>11.0</td>\n",
       "      <td>wd</td>\n",
       "      <td>15:51:00</td>\n",
       "      <td>hook &amp; line</td>\n",
       "      <td>Private/Rental boat</td>\n",
       "      <td>100.0</td>\n",
       "      <td>2021</td>\n",
       "      <td>0.090909</td>\n",
       "      <td>04:51:00</td>\n",
       "      <td>(4, 15)</td>\n",
       "    </tr>\n",
       "    <tr>\n",
       "      <th>19660</th>\n",
       "      <td>2.0</td>\n",
       "      <td>20.0</td>\n",
       "      <td>we</td>\n",
       "      <td>18:14:00</td>\n",
       "      <td>hook &amp; line</td>\n",
       "      <td>Pier, dock</td>\n",
       "      <td>25.0</td>\n",
       "      <td>2021</td>\n",
       "      <td>0.100000</td>\n",
       "      <td>22:14:00</td>\n",
       "      <td>(22, 18)</td>\n",
       "    </tr>\n",
       "    <tr>\n",
       "      <th>19661</th>\n",
       "      <td>2.0</td>\n",
       "      <td>20.0</td>\n",
       "      <td>we</td>\n",
       "      <td>18:14:00</td>\n",
       "      <td>hook &amp; line</td>\n",
       "      <td>Pier, dock</td>\n",
       "      <td>0.0</td>\n",
       "      <td>2021</td>\n",
       "      <td>0.100000</td>\n",
       "      <td>22:14:00</td>\n",
       "      <td>(22, 18)</td>\n",
       "    </tr>\n",
       "    <tr>\n",
       "      <th>...</th>\n",
       "      <td>...</td>\n",
       "      <td>...</td>\n",
       "      <td>...</td>\n",
       "      <td>...</td>\n",
       "      <td>...</td>\n",
       "      <td>...</td>\n",
       "      <td>...</td>\n",
       "      <td>...</td>\n",
       "      <td>...</td>\n",
       "      <td>...</td>\n",
       "      <td>...</td>\n",
       "    </tr>\n",
       "    <tr>\n",
       "      <th>17994</th>\n",
       "      <td>1.0</td>\n",
       "      <td>3.0</td>\n",
       "      <td>we</td>\n",
       "      <td>12:31:00</td>\n",
       "      <td>hook &amp; line</td>\n",
       "      <td>Private/Rental boat</td>\n",
       "      <td>200.0</td>\n",
       "      <td>2018</td>\n",
       "      <td>0.333333</td>\n",
       "      <td>09:31:00</td>\n",
       "      <td>(9, 12)</td>\n",
       "    </tr>\n",
       "    <tr>\n",
       "      <th>16276</th>\n",
       "      <td>1.0</td>\n",
       "      <td>3.0</td>\n",
       "      <td>we</td>\n",
       "      <td>11:20:00</td>\n",
       "      <td>hook &amp; line</td>\n",
       "      <td>Charter boat</td>\n",
       "      <td>12.0</td>\n",
       "      <td>2018</td>\n",
       "      <td>0.333333</td>\n",
       "      <td>08:20:00</td>\n",
       "      <td>(8, 11)</td>\n",
       "    </tr>\n",
       "    <tr>\n",
       "      <th>17995</th>\n",
       "      <td>2.0</td>\n",
       "      <td>6.0</td>\n",
       "      <td>we</td>\n",
       "      <td>13:32:00</td>\n",
       "      <td>hook &amp; line</td>\n",
       "      <td>Private/Rental boat</td>\n",
       "      <td>0.0</td>\n",
       "      <td>2018</td>\n",
       "      <td>0.333333</td>\n",
       "      <td>07:32:00</td>\n",
       "      <td>(7, 13)</td>\n",
       "    </tr>\n",
       "    <tr>\n",
       "      <th>17996</th>\n",
       "      <td>2.0</td>\n",
       "      <td>6.0</td>\n",
       "      <td>we</td>\n",
       "      <td>13:33:00</td>\n",
       "      <td>hook &amp; line</td>\n",
       "      <td>Private/Rental boat</td>\n",
       "      <td>0.0</td>\n",
       "      <td>2018</td>\n",
       "      <td>0.333333</td>\n",
       "      <td>07:33:00</td>\n",
       "      <td>(7, 13)</td>\n",
       "    </tr>\n",
       "    <tr>\n",
       "      <th>18007</th>\n",
       "      <td>2.0</td>\n",
       "      <td>6.0</td>\n",
       "      <td>we</td>\n",
       "      <td>15:14:00</td>\n",
       "      <td>hook &amp; line</td>\n",
       "      <td>Private/Rental boat</td>\n",
       "      <td>100.0</td>\n",
       "      <td>2018</td>\n",
       "      <td>0.333333</td>\n",
       "      <td>09:14:00</td>\n",
       "      <td>(9, 15)</td>\n",
       "    </tr>\n",
       "  </tbody>\n",
       "</table>\n",
       "<p>4000 rows × 11 columns</p>\n",
       "</div>"
      ],
      "text/plain": [
       "       num_catched  hrs_fished week/weekday      time         gear  \\\n",
       "22234          1.0        12.0           wd  17:49:00  hook & line   \n",
       "21753          1.0        11.0           wd  15:52:00  hook & line   \n",
       "21752          1.0        11.0           wd  15:51:00  hook & line   \n",
       "19660          2.0        20.0           we  18:14:00  hook & line   \n",
       "19661          2.0        20.0           we  18:14:00  hook & line   \n",
       "...            ...         ...          ...       ...          ...   \n",
       "17994          1.0         3.0           we  12:31:00  hook & line   \n",
       "16276          1.0         3.0           we  11:20:00  hook & line   \n",
       "17995          2.0         6.0           we  13:32:00  hook & line   \n",
       "17996          2.0         6.0           we  13:33:00  hook & line   \n",
       "18007          2.0         6.0           we  15:14:00  hook & line   \n",
       "\n",
       "              fishing_mode  days_fished  year   succ_hr starting_time  \\\n",
       "22234  Private/Rental boat         15.0  2021  0.083333      05:49:00   \n",
       "21753  Private/Rental boat        100.0  2021  0.090909      04:52:00   \n",
       "21752  Private/Rental boat        100.0  2021  0.090909      04:51:00   \n",
       "19660           Pier, dock         25.0  2021  0.100000      22:14:00   \n",
       "19661           Pier, dock          0.0  2021  0.100000      22:14:00   \n",
       "...                    ...          ...   ...       ...           ...   \n",
       "17994  Private/Rental boat        200.0  2018  0.333333      09:31:00   \n",
       "16276         Charter boat         12.0  2018  0.333333      08:20:00   \n",
       "17995  Private/Rental boat          0.0  2018  0.333333      07:32:00   \n",
       "17996  Private/Rental boat          0.0  2018  0.333333      07:33:00   \n",
       "18007  Private/Rental boat        100.0  2018  0.333333      09:14:00   \n",
       "\n",
       "      period_of_fishing  \n",
       "22234           (5, 17)  \n",
       "21753           (4, 15)  \n",
       "21752           (4, 15)  \n",
       "19660          (22, 18)  \n",
       "19661          (22, 18)  \n",
       "...                 ...  \n",
       "17994           (9, 12)  \n",
       "16276           (8, 11)  \n",
       "17995           (7, 13)  \n",
       "17996           (7, 13)  \n",
       "18007           (9, 15)  \n",
       "\n",
       "[4000 rows x 11 columns]"
      ]
     },
     "execution_count": 329,
     "metadata": {},
     "output_type": "execute_result"
    }
   ],
   "source": [
    "nc_df[\"starting_time\"]\n",
    "setsy = set()\n",
    "all_periods = []\n",
    "for i, row in nc_df.iterrows():\n",
    "    start_time,ending_time = row[\"starting_time\"], row[\"time\"]\n",
    "    start_hr,end_hr = start_time.hour,ending_time.hour\n",
    "    setsy.add(start_hr)\n",
    "    setsy.add(end_hr)\n",
    "    period = (start_hr,end_hr)\n",
    "    all_periods.append(period)\n",
    "\n",
    "nc_df[\"period_of_fishing\"] = all_periods\n",
    "nc_df"
   ]
  },
  {
   "cell_type": "code",
   "execution_count": 330,
   "id": "81bf049b-d143-4d52-a7b7-f920c8187d4f",
   "metadata": {},
   "outputs": [
    {
     "data": {
      "image/png": "[encoded data removed]",
      "text/plain": [
       "<Figure size 432x288 with 1 Axes>"
      ]
     },
     "metadata": {
      "needs_background": "light"
     },
     "output_type": "display_data"
    }
   ],
   "source": [
    "times = []\n",
    "for i, row in nc_df.iterrows():\n",
    "    if row[\"year\"] == 2018:\n",
    "        start,end = row[\"period_of_fishing\"]\n",
    "        times.append(start)\n",
    "kde = sns.kdeplot(times,shade=True).set(title='Most popular times to go fishing in 2018')"
   ]
  },
  {
   "cell_type": "markdown",
   "id": "56a348c4-eaa9-446f-a26a-95e573dfc3f9",
   "metadata": {},
   "source": [
    "As we can see in 2018, the most popular time to fish was at 8-9 AM. This makes relative sense because of the density of fish caught in 2018, which was around .1-.15 and .25-.30 which means that people were out on the water for around 6-10 hours or 3-4 hours. People usually do not want to stay out on the water when it gets dark. As a result, we can see that many anglers depart early in the morning so that they have ample amounts of time to catch fish.\n"
   ]
  },
  {
   "cell_type": "code",
   "execution_count": 331,
   "id": "07fcf203-2ef5-4880-a856-262ebd9229d5",
   "metadata": {},
   "outputs": [
    {
     "data": {
      "image/png": "[encoded data removed]",
      "text/plain": [
       "<Figure size 432x288 with 1 Axes>"
      ]
     },
     "metadata": {
      "needs_background": "light"
     },
     "output_type": "display_data"
    }
   ],
   "source": [
    "times = []\n",
    "for i, row in nc_df.iterrows():\n",
    "    if row[\"year\"] == 2019:\n",
    "        start,end = row[\"period_of_fishing\"]\n",
    "        times.append(start)\n",
    "kde = sns.kdeplot(times,shade=True).set(title='Most popular times to go fishing in 2019')"
   ]
  },
  {
   "cell_type": "markdown",
   "id": "faaca72d-a92c-4fc6-bffc-c17e81fe5ca9",
   "metadata": {},
   "source": [
    "Compared to the previous year of 2018, the peak fishing time in 2019 has stayed relatively the same, with the peak fishing time being around 8 AM. Comparing the density of fishing success in 2019 and 2018, the results make sense, as fishing success density did not change very much from 2018 to 2019. One thing to note is that there was a slightly higher density of .25 success per hour in 2019, which can explain the slight shift of time from 7-8 AM to 8 AM, since people can leave a little later in the morning and still have decent success fishing.\n"
   ]
  },
  {
   "cell_type": "code",
   "execution_count": 332,
   "id": "7628bf51-7dbf-4c3f-903d-d20f4b3e7399",
   "metadata": {},
   "outputs": [
    {
     "data": {
      "image/png": "[encoded data removed]",
      "text/plain": [
       "<Figure size 432x288 with 1 Axes>"
      ]
     },
     "metadata": {
      "needs_background": "light"
     },
     "output_type": "display_data"
    }
   ],
   "source": [
    "times = []\n",
    "for i, row in nc_df.iterrows():\n",
    "    if row[\"year\"] == 2020:\n",
    "        start,end = row[\"period_of_fishing\"]\n",
    "        times.append(start)\n",
    "kde = sns.kdeplot(times,shade=True).set(title='Most popular times to go fishing in 2020')"
   ]
  },
  {
   "cell_type": "markdown",
   "id": "d545953f-8357-440f-a83d-11ce7981749c",
   "metadata": {},
   "source": [
    "From the 2020 fishing time chart above, we can see that the most popular times have still been relatively similar to previous years, with more people leaving around 7 AM up to the peak time of leaving at around 9 to 10 AM. From the density chart of 2020, there was a significant increase in success rate, as the density of people who had around .25 fish per hour jumped from a density of around 3.5 to a density of 6. Since the density increased this much, people could catch significantly more fish during their trips. This would allow the anglers to leave at a larger window of time without decreasing their chances of fishing success, which is what we see in the graph above."
   ]
  },
  {
   "cell_type": "code",
   "execution_count": 333,
   "id": "b8ffc32a-237e-4c38-8645-e7af3d83e157",
   "metadata": {},
   "outputs": [
    {
     "data": {
      "image/png": "[encoded data removed]",
      "text/plain": [
       "<Figure size 432x288 with 1 Axes>"
      ]
     },
     "metadata": {
      "needs_background": "light"
     },
     "output_type": "display_data"
    }
   ],
   "source": [
    "times = []\n",
    "for i, row in nc_df.iterrows():\n",
    "    if row[\"year\"] == 2021:\n",
    "        start,end = row[\"period_of_fishing\"]\n",
    "        times.append(start)\n",
    "kde = sns.kdeplot(times,shade=True).set(title='Most popular times to go fishing in 2021')"
   ]
  },
  {
   "cell_type": "markdown",
   "id": "44153e3e-d852-4b56-b7e3-9c68b4a02ea6",
   "metadata": {},
   "source": [
    "In 2021, the density of fishing success for anglers decreased somewhat, with many anglers catching either .25 fish per hour, .35 fish per hour, and .4 fish per hour, each at a density of around 4. This is a decrease from the previous year, where the density of catching fish was around 6. As we can see in the popular fishing times chart above, the most popular time to leave is much more sharp in comparison to previous years. The peak was at 7 AM, which means that in order to combat the lower fishing success rates, anglers had to once again wake up earlier in order to increase their chances of catching fish."
   ]
  },
  {
   "cell_type": "markdown",
   "id": "4b4e4247-f02e-4ac1-b202-0c75a3ff7de3",
   "metadata": {},
   "source": [
    "And if we combine all of our fishing times together, and fit a linear regression line on them:"
   ]
  },
  {
   "cell_type": "code",
   "execution_count": 334,
   "id": "53763107-bb3d-40b1-9a8b-b6e8ad3e6213",
   "metadata": {},
   "outputs": [
    {
     "name": "stdout",
     "output_type": "stream",
     "text": [
      "                            OLS Regression Results                            \n",
      "==============================================================================\n",
      "Dep. Variable:                   time   R-squared:                       0.000\n",
      "Model:                            OLS   Adj. R-squared:                  0.000\n",
      "Method:                 Least Squares   F-statistic:                     1.825\n",
      "Date:                Sat, 17 Dec 2022   Prob (F-statistic):              0.177\n",
      "Time:                        00:43:38   Log-Likelihood:                -8630.9\n",
      "No. Observations:                4000   AIC:                         1.727e+04\n",
      "Df Residuals:                    3998   BIC:                         1.728e+04\n",
      "Df Model:                           1                                         \n",
      "Covariance Type:            nonrobust                                         \n",
      "==============================================================================\n",
      "                 coef    std err          t      P>|t|      [0.025      0.975]\n",
      "------------------------------------------------------------------------------\n",
      "Intercept    -72.3085     59.802     -1.209      0.227    -189.553      44.936\n",
      "years          0.0400      0.030      1.351      0.177      -0.018       0.098\n",
      "==============================================================================\n",
      "Omnibus:                      606.100   Durbin-Watson:                   1.740\n",
      "Prob(Omnibus):                  0.000   Jarque-Bera (JB):             5371.032\n",
      "Skew:                           0.443   Prob(JB):                         0.00\n",
      "Kurtosis:                       8.607   Cond. No.                     3.65e+06\n",
      "==============================================================================\n",
      "\n",
      "Notes:\n",
      "[1] Standard Errors assume that the covariance matrix of the errors is correctly specified.\n",
      "[2] The condition number is large, 3.65e+06. This might indicate that there are\n",
      "strong multicollinearity or other numerical problems.\n"
     ]
    },
    {
     "data": {
      "image/png": "[encoded data removed]",
      "text/plain": [
       "<Figure size 432x288 with 1 Axes>"
      ]
     },
     "metadata": {
      "needs_background": "light"
     },
     "output_type": "display_data"
    }
   ],
   "source": [
    "all_times = []\n",
    "for i, row in nc_df.iterrows():\n",
    "    start,end = row[\"period_of_fishing\"]\n",
    "    all_times.append(start)\n",
    "    \n",
    "x_axis = np.array(nc_df[\"year\"]).reshape(-1,1)\n",
    "y_axis = all_times\n",
    "linear_reg = LinearRegression().fit(x_axis,y_axis)\n",
    "plt.scatter(nc_df[\"year\"],all_times)\n",
    "prediction = linear_reg.predict(x_axis)\n",
    "plt.plot(x_axis, prediction, color = \"red\")\n",
    "plt.xlabel(\"Years\")\n",
    "y = plt.ylabel(\"Time\")\n",
    "average_increase = linear_reg.coef_\n",
    "tmpdf = pd.DataFrame({'time':all_times, 'years' :list(nc_df[\"year\"])})\n",
    "info = sm.ols(formula = \"time ~ years\",data= tmpdf).fit()\n",
    "print(info.summary())"
   ]
  },
  {
   "cell_type": "markdown",
   "id": "b9baeb44-6a60-4b78-9a3a-38258950ec3b",
   "metadata": {},
   "source": [
    "We can see from the graph that the average time to go fishing has not changed over the years at all. The linear regression line has stayed at a steady 7 AM time from the years 2018-2021. With a p-value of 0.177, we can also not reject the null hypothesis that the year has no relation to the most popular time to fish.\n",
    "\n",
    "Unfortunately for us, it appears that there is no optimal time to fish. If we fish at a time when other people are not, we would be severely sacrificing our chances of success catching fish since the average success rate of anglers is one fish every few hours. It seems that the only alternatives for us are to either find our own secluded spots for fishing, or renting a boat out on the water away from other fishermen."
   ]
  },
  {
   "cell_type": "markdown",
   "id": "2c1b7ade-1a2a-48fd-9548-e57450556616",
   "metadata": {},
   "source": [
    "Part 4. \n",
    "Hypothesis testing, training our data to make predictions:"
   ]
  },
  {
   "cell_type": "markdown",
   "id": "1b219e9a-ba45-497b-adcf-6cf66b1a6d44",
   "metadata": {},
   "source": [
    "We will use linear regression to using our variables of how successful anglers wear each year, train the regression model on training data, and produce predictions for our testing data:"
   ]
  },
  {
   "cell_type": "code",
   "execution_count": 335,
   "id": "d96becb0-7e6e-4f33-8603-4b57a173a6cf",
   "metadata": {},
   "outputs": [],
   "source": [
    "X = nc_df2['YEAR']\n",
    "Y = nc_df2['succ_hr']\n",
    "X = X.transpose()\n",
    "x_train, x_test, y_train, y_test = train_test_split(X,Y, test_size = .5, random_state=13)\n",
    "x_train_copy, x_test_copy, y_train_copy, y_test_copy = x_train, x_test, y_train, y_test \n",
    "x_train = x_train.values.reshape(-1,1)\n",
    "x_test = x_test.values.reshape(-1,1)\n",
    "\n",
    "line = LinearRegression()\n",
    "line.fit(x_train, y_train)\n",
    "y_pred = line.predict(x_test)"
   ]
  },
  {
   "cell_type": "markdown",
   "id": "9a7f593e-56fd-48ee-b173-d2967d0897a9",
   "metadata": {},
   "source": [
    "And our predictions for our test data would look like:"
   ]
  },
  {
   "cell_type": "code",
   "execution_count": 336,
   "id": "f61cc6e8-7d5d-4324-9d17-eba04ccbe44a",
   "metadata": {},
   "outputs": [
    {
     "data": {
      "image/png": "[encoded data removed]",
      "text/plain": [
       "<Figure size 720x720 with 1 Axes>"
      ]
     },
     "metadata": {
      "needs_background": "light"
     },
     "output_type": "display_data"
    }
   ],
   "source": [
    "f, ax = plt.subplots(figsize=(10,10))\n",
    "x = sns.distplot(y_test,label=\"Tests\", ax=ax)\n",
    "y = sns.distplot(y_pred,label=\"Predictions\", ax=ax)\n",
    "legend = ax.legend()"
   ]
  },
  {
   "cell_type": "markdown",
   "id": "be4d763a-e4c8-4b4e-9b1e-394748c38d64",
   "metadata": {},
   "source": [
    "Further on, if we decided to cross validate these results with another regression algorithm, say a tree regressor one, we get the following results:"
   ]
  },
  {
   "cell_type": "code",
   "execution_count": 344,
   "id": "2553f1d7-173e-4daf-adf4-6f7e51dadd70",
   "metadata": {},
   "outputs": [],
   "source": [
    "regressor = DecisionTreeRegressor()\n",
    "regressor_tree = regressor.fit(x_train,y_train)\n",
    "y_pred = regressor_tree.predict(x_test)"
   ]
  },
  {
   "cell_type": "markdown",
   "id": "134028ed-a427-4693-b393-3e3f727207c3",
   "metadata": {},
   "source": [
    "And if we visualize the predictions of the regressor tree:"
   ]
  },
  {
   "cell_type": "code",
   "execution_count": 345,
   "id": "420a1fd9-4326-4235-a954-33b15bf2ae0e",
   "metadata": {},
   "outputs": [
    {
     "data": {
      "image/png": "[encoded data removed]",
      "text/plain": [
       "<Figure size 720x720 with 1 Axes>"
      ]
     },
     "metadata": {
      "needs_background": "light"
     },
     "output_type": "display_data"
    }
   ],
   "source": [
    "f, ax = plt.subplots(figsize=(10,10))\n",
    "x = sns.distplot(y_test,label=\"Tests\", ax=ax)\n",
    "y = sns.distplot(y_pred,label=\"Predictions\", ax=ax)\n",
    "legend = ax.legend()"
   ]
  },
  {
   "cell_type": "markdown",
   "id": "222beb77-0b84-42d2-916d-6b8abaf4d3ea",
   "metadata": {},
   "source": [
    "After using both Linear regression, and Decission Tree regressor to predict next years fisihing success, it doesn't appear that a linear regression line would fit either of our prediction too well however, so we will check the coefficients of correlation with \n",
    "a r2 score to see how related the independent and dependent variable are:"
   ]
  },
  {
   "cell_type": "code",
   "execution_count": 346,
   "id": "f9f1dd06-496e-45ac-8bef-6b72582d1e7d",
   "metadata": {},
   "outputs": [
    {
     "name": "stdout",
     "output_type": "stream",
     "text": [
      "r squared score:  0.15191994128743602\n"
     ]
    }
   ],
   "source": [
    "r_score = r2_score(y_test, y_pred)\n",
    "print(\"r squared score: \", r_score)"
   ]
  },
  {
   "cell_type": "markdown",
   "id": "36c29627-68ff-49bd-b19b-6d3f32ea793a",
   "metadata": {},
   "source": [
    "The R squared score shows how related the independent and dependent variable are. Since we got such a low score of .028 as our score, it shows that the year has little to no effect on the success rate of anglers' fishing trips. This is understandable as fishing has a lot of factors involved in it, such as environment, fishing populations, overfishing, pollution, and between others. So for us sadly, that means that we should be looking for other factors in fishing that may affect success rather than year."
   ]
  },
  {
   "cell_type": "markdown",
   "id": "f756b630-85d8-48c0-89a7-cce9adb50ce7",
   "metadata": {},
   "source": [
    "Part 5. Conclusion:"
   ]
  },
  {
   "cell_type": "markdown",
   "id": "b3f99635-5d5e-483e-bf26-70e025b3301a",
   "metadata": {},
   "source": [
    "Conclusion\n",
    "\n",
    "Fishing is a very popular outdoor recreational sport. A large part of the enjoyment of fishing is the amount of fish that people catch while on the trip. We wanted to learn about whether certain factors affected the successfulness of fishing trips in order to potentially maximize the amount of enjoyment we get when we go fishing. The factors that we explored was using how successful people were in other years to predict our next year that we go fishing as well as the time that we should go out fishing. There are many other factors that we did not explore in this tutorial that may correlate to a more successful fishing trip. For the future for anyone interested, they can perform their own analysis on the NOAA's fishing data using our tutorial as a basis and with further research not available on the NOAA database, survey for fishing popluation, pollution, and environment factors that would be beneficial for a more through analysis. "
   ]
  }
 ],
 "metadata": {
  "kernelspec": {
   "display_name": "Python 3 (ipykernel)",
   "language": "python",
   "name": "python3"
  },
  "language_info": {
   "codemirror_mode": {
    "name": "ipython",
    "version": 3
   },
   "file_extension": ".py",
   "mimetype": "text/x-python",
   "name": "python",
   "nbconvert_exporter": "python",
   "pygments_lexer": "ipython3",
   "version": "3.9.7"
  },
  "vscode": {
   "interpreter": {
    "hash": "5c771f3025f7e9258836b1fd36f5b3d4a6040dcdaa8e86655649cf6ead021e7d"
   }
  }
 },
 "nbformat": 4,
 "nbformat_minor": 5
}
